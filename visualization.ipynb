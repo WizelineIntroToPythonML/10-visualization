{
 "cells": [
  {
   "cell_type": "markdown",
   "metadata": {},
   "source": [
    "# Session 10\n",
    "\n",
    "## Data Visualization\n",
    "\n",
    "![Course Hero](images/hero.png)\n",
    "\n",
    "## Data Visualization\n",
    "\n",
    "Data Visualization deals with displaying data to identify trends, draw conclusions or quickly communicate information. It is a very powerful tool for transmitting knowledge, as it simplifies complicated data and summarizes massive volumes of it.\n",
    "\n",
    "The data is organized into charts, graphs and other types of visual representation, making it accessible.\n"
   ]
  },
  {
   "cell_type": "code",
   "execution_count": null,
   "metadata": {},
   "outputs": [],
   "source": [
    "import numpy as np\n",
    "import pandas as pd\n",
    "import plotly.express as px\n",
    "\n",
    "senses = pd.DataFrame(\n",
    "    {\n",
    "        \"labels\": [\"Sight\", \"Hearing\", \"Smell\", \"Taste\", \"Touch\"],\n",
    "        \"values\": [40, 30, 5, 1, 1],\n",
    "    }\n",
    ")\n",
    "\n",
    "senses.head(5)\n"
   ]
  },
  {
   "cell_type": "code",
   "execution_count": null,
   "metadata": {},
   "outputs": [],
   "source": [
    "fig = px.treemap(\n",
    "    senses,\n",
    "    path=[\"labels\"],\n",
    "    values=\"values\",\n",
    "    width=800,\n",
    "    height=400,\n",
    "    title=\"Conscious Senses Bandwidth (in bits per second)\",\n",
    ")\n",
    "\n",
    "fig.update_layout(margin=dict(t=50, l=25, r=25, b=25))\n",
    "\n",
    "fig.show()\n"
   ]
  },
  {
   "cell_type": "markdown",
   "metadata": {},
   "source": [
    "Some great examples of how visualization can communicate hard concepts are found in [Randall Munroe's XKCD Webcomic](https://xkcd.com/).\n",
    "\n",
    "[A Timeline of Earth's Average Temperature](https://xkcd.com/1732/).\n",
    "\n",
    "Of course, we have to be careful. Visualizations can also be used to hide or confuse data.\n",
    "\n",
    "[![Lies](images/lies.png)](https://en.wikipedia.org/wiki/Lies,_damned_lies,_and_statistics)\n",
    "\n",
    "There are many great Data Visualization Libraries in Python.\n",
    "\n",
    "- [Matplotlib](https://matplotlib.org/)\n",
    "- [Seaborn](http://seaborn.pydata.org/index.html)\n",
    "- [Plotly](https://plot.ly/python/)\n",
    "- [Bokeh](http://bokeh.pydata.org/en/latest/)\n",
    "- [Altair](https://altair-viz.github.io/)\n",
    "- [Geoplotlib](https://github.com/andrea-cuttone/geoplotlib)\n",
    "- [Gleam](https://github.com/dgrtwo/gleam)\n",
    "- [Folium](https://github.com/python-visualization/folium)\n",
    "- And many more...\n",
    "\n",
    "We will only show 3 of them, as an example.\n"
   ]
  },
  {
   "cell_type": "markdown",
   "metadata": {},
   "source": [
    "## pandas visualization\n",
    "\n",
    "![pandas logo](images/pandas.png)\n",
    "\n",
    "pandas, by itself, can do visualizations.\n",
    "\n",
    "Note: Under the hood it uses Matplotlib\n"
   ]
  },
  {
   "cell_type": "code",
   "execution_count": null,
   "metadata": {},
   "outputs": [],
   "source": [
    "import pandas as pd\n",
    "\n",
    "simple_series = pd.Series([40, 34, 30, 22, 28, 17, 19, 20, 13, 9, 15, 10, 7, 3])\n",
    "\n",
    "simple_series.plot()\n"
   ]
  },
  {
   "cell_type": "code",
   "execution_count": null,
   "metadata": {},
   "outputs": [],
   "source": [
    "simple_series.plot(\n",
    "    kind=\"line\",  # bar, barh, hist, box, area, pie\n",
    "    figsize=(12, 6),\n",
    "    color=\"green\",\n",
    "    title=\"Simple Series Plot\",\n",
    "    grid=False,\n",
    "    style=[\"-\"],\n",
    "    xlim=(0, 15),\n",
    "    xlabel=\"Independent variable\",\n",
    "    ylim=(0, 50),\n",
    "    ylabel=\"Dependent variable\",\n",
    "    fontsize=10,\n",
    "    table=False,\n",
    ")\n"
   ]
  },
  {
   "cell_type": "code",
   "execution_count": null,
   "metadata": {},
   "outputs": [],
   "source": [
    "penguins_df = pd.read_csv(\"penguins.csv\")\n",
    "\n",
    "penguins_df.head(5)\n"
   ]
  },
  {
   "cell_type": "code",
   "execution_count": null,
   "metadata": {},
   "outputs": [],
   "source": [
    "penguins_df[\"Species\"].value_counts()\n"
   ]
  },
  {
   "cell_type": "code",
   "execution_count": null,
   "metadata": {},
   "outputs": [],
   "source": [
    "penguins_df[\"Species\"].str.split(\" \").str[0]\n"
   ]
  },
  {
   "cell_type": "code",
   "execution_count": null,
   "metadata": {},
   "outputs": [],
   "source": [
    "penguins_df[\"short_species\"] = penguins_df[\"Species\"].str.split(\" \").str[0]\n",
    "\n",
    "penguins_df[\"short_species\"].value_counts()\n"
   ]
  },
  {
   "cell_type": "code",
   "execution_count": null,
   "metadata": {},
   "outputs": [],
   "source": [
    "penguins_df[\"short_species\"].value_counts().plot(kind=\"bar\")\n"
   ]
  },
  {
   "cell_type": "markdown",
   "metadata": {},
   "source": [
    "## [Matplotlib](https://matplotlib.org)\n",
    "\n",
    "[![Matplotlib logo](images/matplotlib%2Cpng)](https://matplotlib.org)\n",
    "\n",
    "Matplotlib is a comprehensive library for creating static, animated, and interactive visualizations in Python. Matplotlib makes easy things easy and hard things possible.\n",
    "\n",
    "- Create publication quality plots.\n",
    "- Make interactive figures that can zoom, pan, update.\n",
    "- Customize visual style and layout.\n",
    "- Export to many file formats.\n",
    "- Embed in JupyterLab and Graphical User Interfaces.\n",
    "- Use a rich array of third-party packages built on Matplotlib.\n",
    "\n",
    "Matplotlib is the base of many of the other visualization libraries. But it is great by itself, and in many cases you don´t need anything else.\n",
    "\n",
    "[Tutorial](https://matplotlib.org/stable/tutorials/index)\n",
    "\n",
    "[Examples](https://matplotlib.org/stable/plot_types/index.html)\n",
    "\n",
    "[Cheatsheets](https://matplotlib.org/cheatsheets/)\n"
   ]
  },
  {
   "cell_type": "code",
   "execution_count": null,
   "metadata": {},
   "outputs": [],
   "source": [
    "import matplotlib.pyplot as plt\n",
    "\n",
    "plt.hist(\n",
    "    penguins_df[\"Culmen Length (mm)\"],  # \"Culmen Depth (mm)\", \"Flipper Length (mm)\"\n",
    "    bins=10,\n",
    "    # bins=[30, 35, 40, 45, 50, 55, 60],\n",
    "    cumulative=False,\n",
    "    histtype=\"bar\",  # step\n",
    "    orientation=\"horizontal\",\n",
    "    rwidth=0.75,\n",
    "    color=\"Green\",\n",
    ")\n"
   ]
  },
  {
   "cell_type": "code",
   "execution_count": null,
   "metadata": {},
   "outputs": [],
   "source": [
    "penguins_adelie = penguins_df[penguins_df[\"short_species\"] == \"Adelie\"][\n",
    "    \"Culmen Length (mm)\"\n",
    "]\n",
    "penguins_gentoo = penguins_df[penguins_df[\"short_species\"] == \"Gentoo\"][\n",
    "    \"Culmen Length (mm)\"\n",
    "]\n",
    "penguins_chinstrap = penguins_df[penguins_df[\"short_species\"] == \"Chinstrap\"][\n",
    "    \"Culmen Length (mm)\"\n",
    "]\n",
    "\n",
    "plt.hist(\n",
    "    penguins_adelie,\n",
    "    bins=10,\n",
    "    cumulative=False,\n",
    "    histtype=\"bar\",\n",
    "    rwidth=0.75,\n",
    "    color=\"Red\",\n",
    "    alpha=0.5,\n",
    ")\n",
    "\n",
    "plt.hist(\n",
    "    penguins_gentoo,\n",
    "    bins=10,\n",
    "    cumulative=False,\n",
    "    histtype=\"bar\",\n",
    "    rwidth=0.75,\n",
    "    color=\"Green\",\n",
    "    alpha=0.5,\n",
    ")\n",
    "\n",
    "plt.hist(\n",
    "    penguins_chinstrap,\n",
    "    bins=10,\n",
    "    cumulative=False,\n",
    "    histtype=\"bar\",\n",
    "    rwidth=0.75,\n",
    "    color=\"Blue\",\n",
    "    alpha=0.5,\n",
    ")\n"
   ]
  },
  {
   "cell_type": "code",
   "execution_count": null,
   "metadata": {},
   "outputs": [],
   "source": [
    "plt.title(\"Penguin comparison\")\n",
    "\n",
    "plt.hist(\n",
    "    [penguins_adelie, penguins_gentoo, penguins_chinstrap],\n",
    "    bins=[30, 35, 40, 45, 50, 55, 60],\n",
    "    stacked=True,\n",
    ")\n",
    "\n",
    "plt.legend([\"Adelie\", \"Gentoo\", \"Chinstrap\"])\n"
   ]
  },
  {
   "cell_type": "code",
   "execution_count": null,
   "metadata": {},
   "outputs": [],
   "source": [
    "# Based on \"Stove Ownership\" from XKCD by Randall Munroe\n",
    "# https://xkcd.com/418/\n",
    "\n",
    "# with plt.xkcd():\n",
    "fig = plt.figure()\n",
    "ax = fig.add_axes((0.1, 0.2, 0.8, 0.7))\n",
    "# ax.spines.right.set_color(\"none\")\n",
    "# ax.spines.top.set_color(\"none\")\n",
    "# ax.set_xticks([])\n",
    "# ax.set_yticks([])\n",
    "ax.set_ylim([-30, 10])\n",
    "\n",
    "data = np.ones(100)\n",
    "data[70:] -= np.arange(30)\n",
    "\n",
    "ax.annotate(\n",
    "    \"THE DAY I REALIZED\\nI COULD COOK BACON\\nWHENEVER I WANTED\",\n",
    "    xy=(70, 0),\n",
    "    arrowprops=dict(arrowstyle=\"->\"),\n",
    "    xytext=(15, -10),\n",
    ")\n",
    "\n",
    "ax.plot(data)\n",
    "\n",
    "ax.set_xlabel(\"time\")\n",
    "ax.set_ylabel(\"my overall health\")\n",
    "fig.text(0.5, 0.05, '\"Stove Ownership\" from xkcd by Randall Munroe', ha=\"center\")\n"
   ]
  },
  {
   "cell_type": "markdown",
   "metadata": {},
   "source": [
    "## [Seaborn](http://seaborn.pydata.org/index.html)\n",
    "\n",
    "[![Seaborn Logo](images/seaborn.png)](http://seaborn.pydata.org/index.html)\n",
    "\n",
    "Seaborn is a Python data visualization library **based on matplotlib**. It provides a high-level interface for drawing attractive and informative statistical graphics.\n",
    "\n",
    "[Tutorial](http://seaborn.pydata.org/tutorial.html)\n",
    "\n",
    "[Example](http://seaborn.pydata.org/examples/index.html)\n"
   ]
  },
  {
   "cell_type": "code",
   "execution_count": null,
   "metadata": {},
   "outputs": [],
   "source": [
    "import seaborn as sns\n",
    "\n",
    "plt.figure(figsize=(12, 6))\n",
    "\n",
    "sns.histplot(\n",
    "    data=penguins_df,\n",
    "    x=\"Culmen Length (mm)\",\n",
    "    binrange=(30, 60),\n",
    "    binwidth=5,\n",
    "    stat=\"percent\",  # count, probability\n",
    "    # cumulative=True,\n",
    "    # kde=True,\n",
    "    # hue=\"short_species\",\n",
    "    # multiple=\"dodge\",\n",
    ")\n"
   ]
  },
  {
   "cell_type": "code",
   "execution_count": null,
   "metadata": {},
   "outputs": [],
   "source": [
    "plt.figure(figsize=(12, 6))\n",
    "\n",
    "sns.scatterplot(\n",
    "    data=penguins_df,\n",
    "    x=\"Culmen Length (mm)\",\n",
    "    y=\"Culmen Depth (mm)\",\n",
    "    # hue=penguins_df[\"short_species\"],\n",
    "    s=70,\n",
    ")\n"
   ]
  },
  {
   "cell_type": "code",
   "execution_count": null,
   "metadata": {},
   "outputs": [],
   "source": [
    "plt.figure(figsize=(12, 6))\n",
    "\n",
    "sns.histplot(\n",
    "    penguins_df,\n",
    "    x=\"Culmen Length (mm)\",\n",
    "    y=\"Culmen Depth (mm)\",\n",
    "    hue=penguins_df[\"short_species\"],\n",
    ")\n"
   ]
  },
  {
   "cell_type": "code",
   "execution_count": null,
   "metadata": {},
   "outputs": [],
   "source": [
    "sns.pairplot(\n",
    "    penguins_df,\n",
    "    hue=\"short_species\",\n",
    "    height=3,\n",
    "    diag_kind=\"hist\",\n",
    ")\n"
   ]
  },
  {
   "cell_type": "markdown",
   "metadata": {},
   "source": [
    "## [Plotly](https://plotly.com/python/)\n",
    "\n",
    "[![Plotly Logo](images/plotly.png)](<[Ploty](https://plotly.com/python/)>)\n",
    "\n",
    "Plotly's Python graphing library makes interactive, publication-quality graphs. Examples of how to make line plots, scatter plots, area charts, bar charts, error bars, box plots, histograms, heatmaps, subplots, multiple-axes, polar charts, and bubble charts.\n",
    "Plotly.py is free and open source and you can view the source, report issues or contribute on GitHub.\n",
    "\n",
    "[Tutorial](https://plotly.com/python/getting-started/)\n",
    "\n",
    "[Examples](https://plotly.com/python/#fundamentals)\n",
    "\n",
    "[Cheatsheet](https://images.plot.ly/plotly-documentation/images/python_cheat_sheet.pdf)\n"
   ]
  },
  {
   "cell_type": "code",
   "execution_count": null,
   "metadata": {},
   "outputs": [],
   "source": [
    "import plotly.express as px\n",
    "\n",
    "df = px.data.gapminder()\n",
    "\n",
    "fig = px.scatter(\n",
    "    df.query(\"year==2007\"),\n",
    "    x=\"gdpPercap\",\n",
    "    y=\"lifeExp\",\n",
    "    size=\"pop\",\n",
    "    color=\"continent\",\n",
    "    hover_name=\"country\",\n",
    "    log_x=True,\n",
    "    size_max=60,\n",
    ")\n",
    "\n",
    "fig.show()\n"
   ]
  },
  {
   "cell_type": "code",
   "execution_count": null,
   "metadata": {},
   "outputs": [],
   "source": [
    "fig = px.scatter(\n",
    "    df,\n",
    "    x=\"gdpPercap\",\n",
    "    y=\"lifeExp\",\n",
    "    animation_frame=\"year\",\n",
    "    animation_group=\"country\",\n",
    "    size=\"pop\",\n",
    "    color=\"continent\",\n",
    "    hover_name=\"country\",\n",
    "    facet_col=\"continent\",\n",
    "    log_x=True,\n",
    "    size_max=45,\n",
    "    range_x=[100, 100000],\n",
    "    range_y=[25, 90],\n",
    ")\n",
    "fig.show()\n"
   ]
  },
  {
   "cell_type": "code",
   "execution_count": null,
   "metadata": {},
   "outputs": [],
   "source": [
    "px.scatter_geo(\n",
    "    df,\n",
    "    locations=\"iso_alpha\",\n",
    "    color=\"continent\",\n",
    "    hover_name=\"country\",\n",
    "    size=\"pop\",\n",
    "    animation_frame=\"year\",\n",
    "    projection=\"natural earth\",\n",
    ")\n"
   ]
  },
  {
   "cell_type": "markdown",
   "metadata": {},
   "source": [
    "## What visualization to use?\n",
    "\n",
    "This is a handy reference about what visualization is better for each situation:\n",
    "\n",
    "[Cheatsheet](https://s3.amazonaws.com/assets.datacamp.com/email/other/Data+Visualizations+-+DataCamp.pdf)\n"
   ]
  },
  {
   "cell_type": "markdown",
   "metadata": {},
   "source": [
    "## [Dash](https://dash.plotly.com)\n",
    "\n",
    "[![Dash Logo](images/dash.png)](https://dash.plotly.com)\n",
    "\n",
    "Dash is the original low-code framework for rapidly building data apps in Python, R, Julia, and F# (experimental).\n",
    "\n",
    "Written on top of Plotly.js and React.js, Dash is ideal for building and deploying data apps with customized user interfaces. It's particularly suited for anyone who works with data.\n",
    "\n",
    "[Develop Data Visualization Interfaces in Python With Dash](https://realpython.com/python-dash/)\n"
   ]
  }
 ],
 "metadata": {
  "kernelspec": {
   "display_name": "Python 3.9.13 ('venv': venv)",
   "language": "python",
   "name": "python3"
  },
  "language_info": {
   "codemirror_mode": {
    "name": "ipython",
    "version": 3
   },
   "file_extension": ".py",
   "mimetype": "text/x-python",
   "name": "python",
   "nbconvert_exporter": "python",
   "pygments_lexer": "ipython3",
   "version": "3.9.13"
  },
  "vscode": {
   "interpreter": {
    "hash": "07efffdc772d69ed8189951bb50d35cbc470368e1a7151d2a676a99e6a2d4549"
   }
  }
 },
 "nbformat": 4,
 "nbformat_minor": 4
}
